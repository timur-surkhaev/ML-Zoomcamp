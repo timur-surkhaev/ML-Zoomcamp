{
 "cells": [
  {
   "cell_type": "code",
   "execution_count": 1,
   "id": "4bd8cd48-fc62-4ab8-a04d-a96838d1394b",
   "metadata": {},
   "outputs": [],
   "source": [
    "import pandas as pd\n",
    "import seaborn as sns\n",
    "import numpy as np"
   ]
  },
  {
   "cell_type": "code",
   "execution_count": 2,
   "id": "191dd607-2514-4bf6-abfd-48bcc3188466",
   "metadata": {},
   "outputs": [
    {
     "data": {
      "text/html": [
       "<div>\n",
       "<style scoped>\n",
       "    .dataframe tbody tr th:only-of-type {\n",
       "        vertical-align: middle;\n",
       "    }\n",
       "\n",
       "    .dataframe tbody tr th {\n",
       "        vertical-align: top;\n",
       "    }\n",
       "\n",
       "    .dataframe thead th {\n",
       "        text-align: right;\n",
       "    }\n",
       "</style>\n",
       "<table border=\"1\" class=\"dataframe\">\n",
       "  <thead>\n",
       "    <tr style=\"text-align: right;\">\n",
       "      <th></th>\n",
       "      <th>Laptop</th>\n",
       "      <th>Status</th>\n",
       "      <th>Brand</th>\n",
       "      <th>Model</th>\n",
       "      <th>CPU</th>\n",
       "      <th>RAM</th>\n",
       "      <th>Storage</th>\n",
       "      <th>Storage type</th>\n",
       "      <th>GPU</th>\n",
       "      <th>Screen</th>\n",
       "      <th>Touch</th>\n",
       "      <th>Final Price</th>\n",
       "    </tr>\n",
       "  </thead>\n",
       "  <tbody>\n",
       "    <tr>\n",
       "      <th>0</th>\n",
       "      <td>ASUS ExpertBook B1 B1502CBA-EJ0436X Intel Core...</td>\n",
       "      <td>New</td>\n",
       "      <td>Asus</td>\n",
       "      <td>ExpertBook</td>\n",
       "      <td>Intel Core i5</td>\n",
       "      <td>8</td>\n",
       "      <td>512</td>\n",
       "      <td>SSD</td>\n",
       "      <td>NaN</td>\n",
       "      <td>15.6</td>\n",
       "      <td>No</td>\n",
       "      <td>1009.0</td>\n",
       "    </tr>\n",
       "    <tr>\n",
       "      <th>1</th>\n",
       "      <td>Alurin Go Start Intel Celeron N4020/8GB/256GB ...</td>\n",
       "      <td>New</td>\n",
       "      <td>Alurin</td>\n",
       "      <td>Go</td>\n",
       "      <td>Intel Celeron</td>\n",
       "      <td>8</td>\n",
       "      <td>256</td>\n",
       "      <td>SSD</td>\n",
       "      <td>NaN</td>\n",
       "      <td>15.6</td>\n",
       "      <td>No</td>\n",
       "      <td>299.0</td>\n",
       "    </tr>\n",
       "    <tr>\n",
       "      <th>2</th>\n",
       "      <td>ASUS ExpertBook B1 B1502CBA-EJ0424X Intel Core...</td>\n",
       "      <td>New</td>\n",
       "      <td>Asus</td>\n",
       "      <td>ExpertBook</td>\n",
       "      <td>Intel Core i3</td>\n",
       "      <td>8</td>\n",
       "      <td>256</td>\n",
       "      <td>SSD</td>\n",
       "      <td>NaN</td>\n",
       "      <td>15.6</td>\n",
       "      <td>No</td>\n",
       "      <td>789.0</td>\n",
       "    </tr>\n",
       "  </tbody>\n",
       "</table>\n",
       "</div>"
      ],
      "text/plain": [
       "                                              Laptop Status   Brand  \\\n",
       "0  ASUS ExpertBook B1 B1502CBA-EJ0436X Intel Core...    New    Asus   \n",
       "1  Alurin Go Start Intel Celeron N4020/8GB/256GB ...    New  Alurin   \n",
       "2  ASUS ExpertBook B1 B1502CBA-EJ0424X Intel Core...    New    Asus   \n",
       "\n",
       "        Model            CPU  RAM  Storage Storage type  GPU  Screen Touch  \\\n",
       "0  ExpertBook  Intel Core i5    8      512          SSD  NaN    15.6    No   \n",
       "1          Go  Intel Celeron    8      256          SSD  NaN    15.6    No   \n",
       "2  ExpertBook  Intel Core i3    8      256          SSD  NaN    15.6    No   \n",
       "\n",
       "   Final Price  \n",
       "0       1009.0  \n",
       "1        299.0  \n",
       "2        789.0  "
      ]
     },
     "execution_count": 2,
     "metadata": {},
     "output_type": "execute_result"
    }
   ],
   "source": [
    "df = pd.read_csv('https://raw.githubusercontent.com/alexeygrigorev/datasets/master/laptops.csv')\n",
    "df.head(3)"
   ]
  },
  {
   "cell_type": "code",
   "execution_count": 3,
   "id": "3129c1fa-5417-4ab5-bb49-b10c81d09ab9",
   "metadata": {},
   "outputs": [
    {
     "data": {
      "text/html": [
       "<div>\n",
       "<style scoped>\n",
       "    .dataframe tbody tr th:only-of-type {\n",
       "        vertical-align: middle;\n",
       "    }\n",
       "\n",
       "    .dataframe tbody tr th {\n",
       "        vertical-align: top;\n",
       "    }\n",
       "\n",
       "    .dataframe thead th {\n",
       "        text-align: right;\n",
       "    }\n",
       "</style>\n",
       "<table border=\"1\" class=\"dataframe\">\n",
       "  <thead>\n",
       "    <tr style=\"text-align: right;\">\n",
       "      <th></th>\n",
       "      <th>laptop</th>\n",
       "      <th>status</th>\n",
       "      <th>brand</th>\n",
       "      <th>model</th>\n",
       "      <th>cpu</th>\n",
       "      <th>ram</th>\n",
       "      <th>storage</th>\n",
       "      <th>storage_type</th>\n",
       "      <th>gpu</th>\n",
       "      <th>screen</th>\n",
       "      <th>touch</th>\n",
       "      <th>final_price</th>\n",
       "    </tr>\n",
       "  </thead>\n",
       "  <tbody>\n",
       "    <tr>\n",
       "      <th>0</th>\n",
       "      <td>ASUS ExpertBook B1 B1502CBA-EJ0436X Intel Core...</td>\n",
       "      <td>New</td>\n",
       "      <td>Asus</td>\n",
       "      <td>ExpertBook</td>\n",
       "      <td>Intel Core i5</td>\n",
       "      <td>8</td>\n",
       "      <td>512</td>\n",
       "      <td>SSD</td>\n",
       "      <td>NaN</td>\n",
       "      <td>15.6</td>\n",
       "      <td>No</td>\n",
       "      <td>1009.0</td>\n",
       "    </tr>\n",
       "    <tr>\n",
       "      <th>1</th>\n",
       "      <td>Alurin Go Start Intel Celeron N4020/8GB/256GB ...</td>\n",
       "      <td>New</td>\n",
       "      <td>Alurin</td>\n",
       "      <td>Go</td>\n",
       "      <td>Intel Celeron</td>\n",
       "      <td>8</td>\n",
       "      <td>256</td>\n",
       "      <td>SSD</td>\n",
       "      <td>NaN</td>\n",
       "      <td>15.6</td>\n",
       "      <td>No</td>\n",
       "      <td>299.0</td>\n",
       "    </tr>\n",
       "    <tr>\n",
       "      <th>2</th>\n",
       "      <td>ASUS ExpertBook B1 B1502CBA-EJ0424X Intel Core...</td>\n",
       "      <td>New</td>\n",
       "      <td>Asus</td>\n",
       "      <td>ExpertBook</td>\n",
       "      <td>Intel Core i3</td>\n",
       "      <td>8</td>\n",
       "      <td>256</td>\n",
       "      <td>SSD</td>\n",
       "      <td>NaN</td>\n",
       "      <td>15.6</td>\n",
       "      <td>No</td>\n",
       "      <td>789.0</td>\n",
       "    </tr>\n",
       "  </tbody>\n",
       "</table>\n",
       "</div>"
      ],
      "text/plain": [
       "                                              laptop status   brand  \\\n",
       "0  ASUS ExpertBook B1 B1502CBA-EJ0436X Intel Core...    New    Asus   \n",
       "1  Alurin Go Start Intel Celeron N4020/8GB/256GB ...    New  Alurin   \n",
       "2  ASUS ExpertBook B1 B1502CBA-EJ0424X Intel Core...    New    Asus   \n",
       "\n",
       "        model            cpu  ram  storage storage_type  gpu  screen touch  \\\n",
       "0  ExpertBook  Intel Core i5    8      512          SSD  NaN    15.6    No   \n",
       "1          Go  Intel Celeron    8      256          SSD  NaN    15.6    No   \n",
       "2  ExpertBook  Intel Core i3    8      256          SSD  NaN    15.6    No   \n",
       "\n",
       "   final_price  \n",
       "0       1009.0  \n",
       "1        299.0  \n",
       "2        789.0  "
      ]
     },
     "execution_count": 3,
     "metadata": {},
     "output_type": "execute_result"
    }
   ],
   "source": [
    "df.columns = df.columns.str.lower().str.replace(' ', '_')\n",
    "df.head(3)"
   ]
  },
  {
   "cell_type": "markdown",
   "id": "8866fea5-10f2-42af-b5d2-79d4cf822440",
   "metadata": {},
   "source": [
    "Using only the following columns:\n",
    "- 'ram'\n",
    "- 'storage'\n",
    "- 'screen'\n",
    "- 'final_price'"
   ]
  },
  {
   "cell_type": "code",
   "execution_count": 4,
   "id": "6b0af07e-00dd-4907-ac8a-0c824130685c",
   "metadata": {},
   "outputs": [],
   "source": [
    "df = df[['ram', 'storage', 'screen', 'final_price']]"
   ]
  },
  {
   "cell_type": "code",
   "execution_count": 5,
   "id": "e6d8529f-3940-40f2-8e83-ea2177e91fbe",
   "metadata": {},
   "outputs": [
    {
     "data": {
      "text/plain": [
       "<Axes: xlabel='final_price', ylabel='Count'>"
      ]
     },
     "execution_count": 5,
     "metadata": {},
     "output_type": "execute_result"
    },
    {
     "data": {
      "image/png": "[encoded data removed]",
      "text/plain": [
       "<Figure size 640x480 with 1 Axes>"
      ]
     },
     "metadata": {},
     "output_type": "display_data"
    }
   ],
   "source": [
    "sns.histplot(df['final_price'])"
   ]
  },
  {
   "cell_type": "markdown",
   "id": "2ba518ed-b35b-4da4-8cb7-d6f0c2d742bb",
   "metadata": {},
   "source": [
    "### Question 1\n",
    "\n",
    "There's one column with missing values. What is it?"
   ]
  },
  {
   "cell_type": "code",
   "execution_count": 6,
   "id": "82b5ed0d-4278-4348-83bb-cd345f63d3d9",
   "metadata": {},
   "outputs": [
    {
     "name": "stdout",
     "output_type": "stream",
     "text": [
      "1\n"
     ]
    },
    {
     "data": {
      "text/plain": [
       "['screen']"
      ]
     },
     "execution_count": 6,
     "metadata": {},
     "output_type": "execute_result"
    }
   ],
   "source": [
    "na_cols = df.columns[df.isna().apply(lambda x: any(x), axis=0)].tolist()\n",
    "print(len(na_cols))\n",
    "na_cols"
   ]
  },
  {
   "cell_type": "code",
   "execution_count": 7,
   "id": "e08f400d-68b9-45ea-8afa-a17c5e9fadbe",
   "metadata": {},
   "outputs": [
    {
     "data": {
      "text/plain": [
       "ram            0\n",
       "storage        0\n",
       "screen         4\n",
       "final_price    0\n",
       "dtype: int64"
      ]
     },
     "execution_count": 7,
     "metadata": {},
     "output_type": "execute_result"
    }
   ],
   "source": [
    "df.isnull().sum()"
   ]
  },
  {
   "cell_type": "markdown",
   "id": "ed665e91-9a69-414a-be31-61ade49c00a1",
   "metadata": {},
   "source": [
    "### Question 2\n",
    "\n",
    "What's the median (50% percentile) for variable 'ram'?"
   ]
  },
  {
   "cell_type": "code",
   "execution_count": 8,
   "id": "3ebf0fe9-de41-4e2c-839f-c723d12a8fe5",
   "metadata": {},
   "outputs": [
    {
     "data": {
      "text/plain": [
       "16.0"
      ]
     },
     "execution_count": 8,
     "metadata": {},
     "output_type": "execute_result"
    }
   ],
   "source": [
    "df['ram'].median()"
   ]
  },
  {
   "cell_type": "markdown",
   "id": "71f02821-063c-4424-9528-281f77240588",
   "metadata": {},
   "source": [
    "### Preparing and splitting the dataset\n",
    "\n",
    "Shuffling the dataset (the filtered one you created above), using seed 42.\n",
    "\n",
    "Splitting data in train/val/test sets, with 60%/20%/20% distribution."
   ]
  },
  {
   "cell_type": "code",
   "execution_count": 9,
   "id": "4b8248f8-1dad-47c5-a70b-b2f2611185e6",
   "metadata": {},
   "outputs": [
    {
     "data": {
      "text/plain": [
       "(1296, 432, 432)"
      ]
     },
     "execution_count": 9,
     "metadata": {},
     "output_type": "execute_result"
    }
   ],
   "source": [
    "n = df.shape[0]\n",
    "\n",
    "n_val = int(n * 0.2)\n",
    "n_test = int(n * 0.2)\n",
    "n_train = n - n_val - n_test\n",
    "\n",
    "idx = np.arange(n)\n",
    "np.random.seed(42)\n",
    "np.random.shuffle(idx)\n",
    "\n",
    "df_train = df.iloc[idx[:n_train]]\n",
    "df_val = df.iloc[idx[n_train:n_train+n_val]]\n",
    "df_test = df.iloc[idx[n_train+n_val:]]\n",
    "\n",
    "df_train = df_train.reset_index(drop=True)\n",
    "df_val = df_val.reset_index(drop=True)\n",
    "df_test = df_test.reset_index(drop=True)\n",
    "\n",
    "X_train = df_train[['ram', 'storage', 'screen']]\n",
    "y_train = df_train['final_price']\n",
    "\n",
    "X_val = df_val[['ram', 'storage', 'screen']]\n",
    "y_val = df_val['final_price']\n",
    "\n",
    "X_test = df_test[['ram', 'storage', 'screen']]\n",
    "y_test = df_test['final_price']\n",
    "\n",
    "len(X_train), len(X_val), len(X_test)"
   ]
  },
  {
   "cell_type": "markdown",
   "id": "2a4d0e05-de84-4dc4-88eb-e4265f514961",
   "metadata": {},
   "source": [
    "### Question 3\n",
    "\n",
    "We need to deal with missing values for the column from Q1.\n",
    "\n",
    "We have two options: fill it with 0 or with the mean of this variable.\n",
    "\n",
    "Try both options. For each, train a linear regression model without regularization using the code from the lessons. For computing the mean, use the training only! \n",
    "\n",
    "Use the validation dataset to evaluate the models and compare the RMSE of each option.\n",
    "\n",
    "Round the RMSE scores to 2 decimal digits using round(score, 2)\n",
    "\n",
    "Which option gives better RMSE?"
   ]
  },
  {
   "cell_type": "code",
   "execution_count": 10,
   "id": "f8796e87-e7b4-4966-9f89-1692e7bc7608",
   "metadata": {},
   "outputs": [],
   "source": [
    "def rmse(y, y_pred):\n",
    "    se = (y - y_pred) ** 2\n",
    "    mse = se.mean()\n",
    "    return np.sqrt(mse)\n",
    "\n",
    "\n",
    "def train_linear_regression(X, y):\n",
    "    ones = np.ones(X.shape[0])\n",
    "    X = np.column_stack([ones, X])\n",
    "    XTX = X.T.dot(X)\n",
    "    XTX_inv = np.linalg.inv(XTX)\n",
    "    w_full = XTX_inv.dot(X.T).dot(y) \n",
    "    return w_full[0], w_full[1:]"
   ]
  },
  {
   "cell_type": "code",
   "execution_count": 11,
   "id": "5fb8a170-8488-4995-b670-004a178a722f",
   "metadata": {},
   "outputs": [
    {
     "data": {
      "text/plain": [
       "600.27"
      ]
     },
     "execution_count": 11,
     "metadata": {},
     "output_type": "execute_result"
    }
   ],
   "source": [
    "# Replacing NA with mean\n",
    "\n",
    "screen_mean = X_train['screen'].mean()\n",
    "X_train_fmean = X_train.fillna(value={'screen':screen_mean}, inplace=False)\n",
    "X_val_fmean = X_val.fillna(value={'screen':screen_mean}, inplace=False)\n",
    "\n",
    "w0, w = train_linear_regression(X_train_fmean, y_train)\n",
    "\n",
    "y_pred = w0 + X_val_fmean.dot(w)\n",
    "\n",
    "round(rmse(y_val, y_pred),2)"
   ]
  },
  {
   "cell_type": "code",
   "execution_count": 12,
   "id": "b1255db6-0e6f-4d80-98b8-7b8696d1e670",
   "metadata": {},
   "outputs": [
    {
     "data": {
      "text/plain": [
       "596.96"
      ]
     },
     "execution_count": 12,
     "metadata": {},
     "output_type": "execute_result"
    }
   ],
   "source": [
    "# Replacing NA with zeroes\n",
    "\n",
    "X_train_fzero = X_train.fillna(value={'screen':0}, inplace=False)\n",
    "X_val_fzero = X_val.fillna(value={'screen':0}, inplace=False)\n",
    "\n",
    "\n",
    "w0, w = train_linear_regression(X_train_fzero, y_train)\n",
    "\n",
    "y_pred = w0 + X_val.dot(w)\n",
    "\n",
    "round(rmse(y_val, y_pred),2)"
   ]
  },
  {
   "cell_type": "markdown",
   "id": "98841f4f-802d-4ef1-9303-f64ae84888e9",
   "metadata": {},
   "source": [
    "### Question 4\n",
    "\n",
    "Now let's train a regularized linear regression.\n",
    "\n",
    "For this question, fill the NAs with 0.\n",
    "\n",
    "Try different values of r from this list: [0, 0.01, 0.1, 1, 5, 10, 100].\n",
    "\n",
    "Use RMSE to evaluate the model on the validation dataset.\n",
    "\n",
    "Round the RMSE scores to 2 decimal digits.\n",
    "\n",
    "Which r gives the best RMSE?\n",
    "\n",
    "If there are multiple options, select the smallest r."
   ]
  },
  {
   "cell_type": "code",
   "execution_count": 13,
   "id": "f2208fef-94c3-4754-b5c3-9b884fb5eaf8",
   "metadata": {},
   "outputs": [
    {
     "data": {
      "text/plain": [
       "{0: 597.36,\n",
       " 0.01: 597.36,\n",
       " 0.1: 597.35,\n",
       " 1: 597.21,\n",
       " 5: 597.01,\n",
       " 10: 597.06,\n",
       " 100: 597.9}"
      ]
     },
     "execution_count": 13,
     "metadata": {},
     "output_type": "execute_result"
    }
   ],
   "source": [
    "# Without log and standartization\n",
    "\n",
    "def train_linear_regression_reg(X, y, r=0.001):\n",
    "    ones = np.ones(X.shape[0])\n",
    "    X = np.column_stack([ones, X])\n",
    "\n",
    "    XTX = X.T.dot(X)\n",
    "    XTX = XTX + r * np.eye(XTX.shape[0])\n",
    "\n",
    "    XTX_inv = np.linalg.inv(XTX)\n",
    "    w_full = XTX_inv.dot(X.T).dot(y)\n",
    "    \n",
    "    return w_full[0], w_full[1:]\n",
    "\n",
    "X_train_fzero = X_train.fillna(value={'screen':0}, inplace=False)\n",
    "X_val_fzero = X_val.fillna(value={'screen':0}, inplace=False)\n",
    "\n",
    "rmse_dict = {}\n",
    "for r in [0, 0.01, 0.1, 1, 5, 10, 100]:\n",
    "    w0, w = train_linear_regression_reg(X_train_fzero, y_train, r)\n",
    "\n",
    "    y_pred = w0 + X_val_fzero.dot(w)\n",
    "    rmse_dict[r] = round(rmse(y_val, y_pred),2)\n",
    "\n",
    "rmse_dict"
   ]
  },
  {
   "cell_type": "markdown",
   "id": "8ee45318-a347-49e8-b4f5-c7b44e5171c7",
   "metadata": {},
   "source": [
    "### Question 5\n",
    "\n",
    "We used seed 42 for splitting the data. Let's find out how selecting the seed influences our score.\n",
    "\n",
    "Try different seed values: [0, 1, 2, 3, 4, 5, 6, 7, 8, 9].\n",
    "\n",
    "For each seed, do the train/validation/test split with 60%/20%/20% distribution.\n",
    "\n",
    "Fill the missing values with 0 and train a model without regularization.\n",
    "\n",
    "For each seed, evaluate the model on the validation dataset and collect the RMSE scores.\n",
    "\n",
    "What's the standard deviation of all the scores? To compute the standard deviation, use np.std.\n",
    "\n",
    "Round the result to 3 decimal digits (round(std, 3))\n"
   ]
  },
  {
   "cell_type": "code",
   "execution_count": 14,
   "id": "40a30fee-557a-46bc-beab-6f0b1ba42ed6",
   "metadata": {},
   "outputs": [
    {
     "data": {
      "text/plain": [
       "29.226"
      ]
     },
     "execution_count": 14,
     "metadata": {},
     "output_type": "execute_result"
    }
   ],
   "source": [
    "rmse_list = []\n",
    "\n",
    "for seed in [0, 1, 2, 3, 4, 5, 6, 7, 8, 9]:    \n",
    "    idx = np.arange(n)\n",
    "    np.random.seed(seed)\n",
    "    np.random.shuffle(idx)\n",
    "    \n",
    "    df_train = df.iloc[idx[:n_train]]\n",
    "    df_val = df.iloc[idx[n_train:n_train+n_val]]\n",
    "    df_test = df.iloc[idx[n_train+n_val:]]\n",
    "    \n",
    "    df_train = df_train.reset_index(drop=True)\n",
    "    df_val = df_val.reset_index(drop=True)\n",
    "    df_test = df_test.reset_index(drop=True)\n",
    "    \n",
    "    X_train = df_train[['ram', 'storage', 'screen']]\n",
    "    y_train = df_train['final_price']\n",
    "    \n",
    "    X_val = df_val[['ram', 'storage', 'screen']]\n",
    "    y_val = df_val['final_price']\n",
    "\n",
    "    X_test = df_test[['ram', 'storage', 'screen']]\n",
    "    y_test = df_test['final_price']\n",
    "\n",
    "    X_train_fzero = X_train.fillna(value={'screen':0}, inplace=False)\n",
    "    X_val_fzero = X_val.fillna(value={'screen':0}, inplace=False)\n",
    "       \n",
    "    w0, w = train_linear_regression(X_train_fzero, y_train)\n",
    "    \n",
    "    y_pred = w0 + X_val.dot(w)\n",
    "    \n",
    "    rmse_list.append(rmse(y_val, y_pred))\n",
    "    \n",
    "round(np.std(rmse_list),3)"
   ]
  },
  {
   "cell_type": "markdown",
   "id": "a5db0604-9fc8-42b8-a453-0d0c3cd0c575",
   "metadata": {},
   "source": [
    "### Question 6\n",
    "\n",
    "Split the dataset like previously, use seed 9.\n",
    "\n",
    "Combine train and validation datasets.\n",
    "\n",
    "Fill the missing values with 0 and train a model with r=0.001.\n",
    "\n",
    "What's the RMSE on the test dataset?"
   ]
  },
  {
   "cell_type": "code",
   "execution_count": 15,
   "id": "bb889bde-92d2-4fc6-8ae8-66ca6a98336a",
   "metadata": {},
   "outputs": [
    {
     "data": {
      "text/plain": [
       "608.61"
      ]
     },
     "execution_count": 15,
     "metadata": {},
     "output_type": "execute_result"
    }
   ],
   "source": [
    "idx = np.arange(n)\n",
    "np.random.seed(9)\n",
    "np.random.shuffle(idx)\n",
    "\n",
    "df_train = df.iloc[idx[:n_train]]\n",
    "df_val = df.iloc[idx[n_train:n_train+n_val]]\n",
    "df_test = df.iloc[idx[n_train+n_val:]]\n",
    "\n",
    "df_train = df_train.reset_index(drop=True)\n",
    "df_val = df_val.reset_index(drop=True)\n",
    "df_test = df_test.reset_index(drop=True)\n",
    "\n",
    "X_train = df_train[['ram', 'storage', 'screen']]\n",
    "y_train = df_train['final_price']\n",
    "\n",
    "X_val = df_val[['ram', 'storage', 'screen']]\n",
    "y_val = df_val['final_price']\n",
    "\n",
    "X_test = df_test[['ram', 'storage', 'screen']]\n",
    "y_test = df_test['final_price']\n",
    "\n",
    "X_concatenated = pd.concat([X_train, X_val])\n",
    "y_concatenated = pd.concat([y_train, y_val])\n",
    "\n",
    "X_concatenated_fzero = X_concatenated.fillna(value={'screen':0}, inplace=False)\n",
    "X_test_fzero = X_test.fillna(value={'screen':0}, inplace=False)\n",
    "\n",
    "w0, w = train_linear_regression_reg(X_concatenated_fzero, y_concatenated, r=0.001)\n",
    "\n",
    "y_pred = w0 + X_test_fzero.dot(w)\n",
    "round(rmse(y_test, y_pred),2)"
   ]
  }
 ],
 "metadata": {
  "kernelspec": {
   "display_name": "Python 3 (ipykernel)",
   "language": "python",
   "name": "python3"
  },
  "language_info": {
   "codemirror_mode": {
    "name": "ipython",
    "version": 3
   },
   "file_extension": ".py",
   "mimetype": "text/x-python",
   "name": "python",
   "nbconvert_exporter": "python",
   "pygments_lexer": "ipython3",
   "version": "3.10.9"
  }
 },
 "nbformat": 4,
 "nbformat_minor": 5
}
