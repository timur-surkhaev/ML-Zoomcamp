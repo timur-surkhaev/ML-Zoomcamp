{
 "cells": [
  {
   "cell_type": "code",
   "execution_count": 1,
   "id": "b1fb2bf5-0c0d-44ba-a6d8-74addebb12a7",
   "metadata": {
    "execution": {
     "iopub.execute_input": "2024-12-02T22:54:21.805313Z",
     "iopub.status.busy": "2024-12-02T22:54:21.805079Z",
     "iopub.status.idle": "2024-12-02T22:54:21.808145Z",
     "shell.execute_reply": "2024-12-02T22:54:21.807655Z",
     "shell.execute_reply.started": "2024-12-02T22:54:21.805294Z"
    }
   },
   "outputs": [],
   "source": [
    "# !pip install -U protobuf\n",
    "# !pip install -U tensorflow==2.17.1 (or just !pip install -U tensorflow (in order to avoid numerous warnings))\n",
    "\n",
    "# !wget https://github.com/SVizor42/ML_Zoomcamp/releases/download/straight-curly-data/data.zip\n",
    "# !unzip data.zip"
   ]
  },
  {
   "cell_type": "code",
   "execution_count": 2,
   "id": "3973afeb-3807-4209-beba-0232ee1217b4",
   "metadata": {
    "execution": {
     "iopub.execute_input": "2024-12-02T22:54:21.808969Z",
     "iopub.status.busy": "2024-12-02T22:54:21.808729Z",
     "iopub.status.idle": "2024-12-02T22:54:24.775886Z",
     "shell.execute_reply": "2024-12-02T22:54:24.775341Z",
     "shell.execute_reply.started": "2024-12-02T22:54:21.808930Z"
    }
   },
   "outputs": [
    {
     "name": "stderr",
     "output_type": "stream",
     "text": [
      "2024-12-02 22:54:22.122499: I tensorflow/core/util/port.cc:153] oneDNN custom operations are on. You may see slightly different numerical results due to floating-point round-off errors from different computation orders. To turn them off, set the environment variable `TF_ENABLE_ONEDNN_OPTS=0`.\n",
      "2024-12-02 22:54:22.138435: E external/local_xla/xla/stream_executor/cuda/cuda_fft.cc:485] Unable to register cuFFT factory: Attempting to register factory for plugin cuFFT when one has already been registered\n",
      "2024-12-02 22:54:22.157938: E external/local_xla/xla/stream_executor/cuda/cuda_dnn.cc:8454] Unable to register cuDNN factory: Attempting to register factory for plugin cuDNN when one has already been registered\n",
      "2024-12-02 22:54:22.163871: E external/local_xla/xla/stream_executor/cuda/cuda_blas.cc:1452] Unable to register cuBLAS factory: Attempting to register factory for plugin cuBLAS when one has already been registered\n",
      "2024-12-02 22:54:22.177942: I tensorflow/core/platform/cpu_feature_guard.cc:210] This TensorFlow binary is optimized to use available CPU instructions in performance-critical operations.\n",
      "To enable the following instructions: AVX2 AVX512F AVX512_VNNI FMA, in other operations, rebuild TensorFlow with the appropriate compiler flags.\n",
      "2024-12-02 22:54:23.004351: W tensorflow/compiler/tf2tensorrt/utils/py_utils.cc:38] TF-TRT Warning: Could not find TensorRT\n"
     ]
    },
    {
     "data": {
      "text/plain": [
       "'2.17.1'"
      ]
     },
     "execution_count": 2,
     "metadata": {},
     "output_type": "execute_result"
    }
   ],
   "source": [
    "import numpy as np\n",
    "import tensorflow as tf\n",
    "import seaborn as sns\n",
    "\n",
    "import matplotlib.pyplot as plt\n",
    "\n",
    "from tensorflow.keras.models import Sequential\n",
    "from tensorflow.keras.layers import Input, Conv2D, MaxPooling2D, Flatten, Dense\n",
    "\n",
    "from tensorflow.keras.preprocessing.image import ImageDataGenerator\n",
    "\n",
    "SEED = 42\n",
    "np.random.seed(SEED)\n",
    "tf.random.set_seed(SEED)\n",
    "\n",
    "tf.__version__"
   ]
  },
  {
   "cell_type": "markdown",
   "id": "00f415ee-bb37-47f6-bb6f-a0563d28a0f6",
   "metadata": {},
   "source": [
    "### Model\n",
    "\n",
    "For this homework we will use Convolutional Neural Network (CNN). Like in the lectures, we'll use Keras.\n",
    "\n",
    "You need to develop the model with following structure:\n",
    "\n",
    "* The shape for input should be (200, 200, 3)\n",
    "* Next, create a convolutional layer (Conv2D):\n",
    "    * Use 32 filters\n",
    "    * Kernel size should be (3, 3) (that's the size of the filter)\n",
    "    * Use 'relu' as activation\n",
    "* Reduce the size of the feature map with max pooling (MaxPooling2D)\n",
    "    * Set the pooling size to (2, 2)\n",
    "* Turn the multi-dimensional result into vectors using a Flatten layer\n",
    "* Next, add a Dense layer with 64 neurons and 'relu' activation\n",
    "* Finally, create the Dense layer with 1 neuron - this will be the output\n",
    "    * The output layer should have an activation - use the appropriate activation for the binary classification case\n",
    "\n",
    "As optimizer use SGD with the following parameters:\n",
    "* `SGD(lr=0.002, momentum=0.8)`\n"
   ]
  },
  {
   "cell_type": "code",
   "execution_count": 3,
   "id": "7d1a42fe-396e-42a8-a1a9-d875eaa16c75",
   "metadata": {
    "execution": {
     "iopub.execute_input": "2024-12-02T22:54:24.776922Z",
     "iopub.status.busy": "2024-12-02T22:54:24.776508Z",
     "iopub.status.idle": "2024-12-02T22:54:26.003642Z",
     "shell.execute_reply": "2024-12-02T22:54:26.003032Z",
     "shell.execute_reply.started": "2024-12-02T22:54:24.776901Z"
    }
   },
   "outputs": [
    {
     "name": "stderr",
     "output_type": "stream",
     "text": [
      "WARNING: All log messages before absl::InitializeLog() is called are written to STDERR\n",
      "I0000 00:00:1733180064.832910    6360 cuda_executor.cc:1015] successful NUMA node read from SysFS had negative value (-1), but there must be at least one NUMA node, so returning NUMA node zero. See more at https://github.com/torvalds/linux/blob/v6.0/Documentation/ABI/testing/sysfs-bus-pci#L344-L355\n",
      "I0000 00:00:1733180064.889618    6360 cuda_executor.cc:1015] successful NUMA node read from SysFS had negative value (-1), but there must be at least one NUMA node, so returning NUMA node zero. See more at https://github.com/torvalds/linux/blob/v6.0/Documentation/ABI/testing/sysfs-bus-pci#L344-L355\n",
      "I0000 00:00:1733180064.889881    6360 cuda_executor.cc:1015] successful NUMA node read from SysFS had negative value (-1), but there must be at least one NUMA node, so returning NUMA node zero. See more at https://github.com/torvalds/linux/blob/v6.0/Documentation/ABI/testing/sysfs-bus-pci#L344-L355\n",
      "I0000 00:00:1733180064.890773    6360 cuda_executor.cc:1015] successful NUMA node read from SysFS had negative value (-1), but there must be at least one NUMA node, so returning NUMA node zero. See more at https://github.com/torvalds/linux/blob/v6.0/Documentation/ABI/testing/sysfs-bus-pci#L344-L355\n",
      "I0000 00:00:1733180064.890992    6360 cuda_executor.cc:1015] successful NUMA node read from SysFS had negative value (-1), but there must be at least one NUMA node, so returning NUMA node zero. See more at https://github.com/torvalds/linux/blob/v6.0/Documentation/ABI/testing/sysfs-bus-pci#L344-L355\n",
      "I0000 00:00:1733180064.891138    6360 cuda_executor.cc:1015] successful NUMA node read from SysFS had negative value (-1), but there must be at least one NUMA node, so returning NUMA node zero. See more at https://github.com/torvalds/linux/blob/v6.0/Documentation/ABI/testing/sysfs-bus-pci#L344-L355\n",
      "I0000 00:00:1733180064.971261    6360 cuda_executor.cc:1015] successful NUMA node read from SysFS had negative value (-1), but there must be at least one NUMA node, so returning NUMA node zero. See more at https://github.com/torvalds/linux/blob/v6.0/Documentation/ABI/testing/sysfs-bus-pci#L344-L355\n",
      "I0000 00:00:1733180064.971507    6360 cuda_executor.cc:1015] successful NUMA node read from SysFS had negative value (-1), but there must be at least one NUMA node, so returning NUMA node zero. See more at https://github.com/torvalds/linux/blob/v6.0/Documentation/ABI/testing/sysfs-bus-pci#L344-L355\n",
      "I0000 00:00:1733180064.971663    6360 cuda_executor.cc:1015] successful NUMA node read from SysFS had negative value (-1), but there must be at least one NUMA node, so returning NUMA node zero. See more at https://github.com/torvalds/linux/blob/v6.0/Documentation/ABI/testing/sysfs-bus-pci#L344-L355\n",
      "2024-12-02 22:54:24.971780: I tensorflow/core/common_runtime/gpu/gpu_device.cc:2021] Created device /job:localhost/replica:0/task:0/device:GPU:0 with 13942 MB memory:  -> device: 0, name: Tesla T4, pci bus id: 0000:00:1e.0, compute capability: 7.5\n"
     ]
    },
    {
     "data": {
      "text/html": [
       "<pre style=\"white-space:pre;overflow-x:auto;line-height:normal;font-family:Menlo,'DejaVu Sans Mono',consolas,'Courier New',monospace\"><span style=\"font-weight: bold\">Model: \"sequential\"</span>\n",
       "</pre>\n"
      ],
      "text/plain": [
       "\u001b[1mModel: \"sequential\"\u001b[0m\n"
      ]
     },
     "metadata": {},
     "output_type": "display_data"
    },
    {
     "data": {
      "text/html": [
       "<pre style=\"white-space:pre;overflow-x:auto;line-height:normal;font-family:Menlo,'DejaVu Sans Mono',consolas,'Courier New',monospace\">┏━━━━━━━━━━━━━━━━━━━━━━━━━━━━━━━━━┳━━━━━━━━━━━━━━━━━━━━━━━━┳━━━━━━━━━━━━━━━┓\n",
       "┃<span style=\"font-weight: bold\"> Layer (type)                    </span>┃<span style=\"font-weight: bold\"> Output Shape           </span>┃<span style=\"font-weight: bold\">       Param # </span>┃\n",
       "┡━━━━━━━━━━━━━━━━━━━━━━━━━━━━━━━━━╇━━━━━━━━━━━━━━━━━━━━━━━━╇━━━━━━━━━━━━━━━┩\n",
       "│ conv2d (<span style=\"color: #0087ff; text-decoration-color: #0087ff\">Conv2D</span>)                 │ (<span style=\"color: #00d7ff; text-decoration-color: #00d7ff\">None</span>, <span style=\"color: #00af00; text-decoration-color: #00af00\">198</span>, <span style=\"color: #00af00; text-decoration-color: #00af00\">198</span>, <span style=\"color: #00af00; text-decoration-color: #00af00\">32</span>)   │           <span style=\"color: #00af00; text-decoration-color: #00af00\">896</span> │\n",
       "├─────────────────────────────────┼────────────────────────┼───────────────┤\n",
       "│ max_pooling2d (<span style=\"color: #0087ff; text-decoration-color: #0087ff\">MaxPooling2D</span>)    │ (<span style=\"color: #00d7ff; text-decoration-color: #00d7ff\">None</span>, <span style=\"color: #00af00; text-decoration-color: #00af00\">99</span>, <span style=\"color: #00af00; text-decoration-color: #00af00\">99</span>, <span style=\"color: #00af00; text-decoration-color: #00af00\">32</span>)     │             <span style=\"color: #00af00; text-decoration-color: #00af00\">0</span> │\n",
       "├─────────────────────────────────┼────────────────────────┼───────────────┤\n",
       "│ flatten (<span style=\"color: #0087ff; text-decoration-color: #0087ff\">Flatten</span>)               │ (<span style=\"color: #00d7ff; text-decoration-color: #00d7ff\">None</span>, <span style=\"color: #00af00; text-decoration-color: #00af00\">313632</span>)         │             <span style=\"color: #00af00; text-decoration-color: #00af00\">0</span> │\n",
       "├─────────────────────────────────┼────────────────────────┼───────────────┤\n",
       "│ dense (<span style=\"color: #0087ff; text-decoration-color: #0087ff\">Dense</span>)                   │ (<span style=\"color: #00d7ff; text-decoration-color: #00d7ff\">None</span>, <span style=\"color: #00af00; text-decoration-color: #00af00\">64</span>)             │    <span style=\"color: #00af00; text-decoration-color: #00af00\">20,072,512</span> │\n",
       "├─────────────────────────────────┼────────────────────────┼───────────────┤\n",
       "│ dense_1 (<span style=\"color: #0087ff; text-decoration-color: #0087ff\">Dense</span>)                 │ (<span style=\"color: #00d7ff; text-decoration-color: #00d7ff\">None</span>, <span style=\"color: #00af00; text-decoration-color: #00af00\">1</span>)              │            <span style=\"color: #00af00; text-decoration-color: #00af00\">65</span> │\n",
       "└─────────────────────────────────┴────────────────────────┴───────────────┘\n",
       "</pre>\n"
      ],
      "text/plain": [
       "┏━━━━━━━━━━━━━━━━━━━━━━━━━━━━━━━━━┳━━━━━━━━━━━━━━━━━━━━━━━━┳━━━━━━━━━━━━━━━┓\n",
       "┃\u001b[1m \u001b[0m\u001b[1mLayer (type)                   \u001b[0m\u001b[1m \u001b[0m┃\u001b[1m \u001b[0m\u001b[1mOutput Shape          \u001b[0m\u001b[1m \u001b[0m┃\u001b[1m \u001b[0m\u001b[1m      Param #\u001b[0m\u001b[1m \u001b[0m┃\n",
       "┡━━━━━━━━━━━━━━━━━━━━━━━━━━━━━━━━━╇━━━━━━━━━━━━━━━━━━━━━━━━╇━━━━━━━━━━━━━━━┩\n",
       "│ conv2d (\u001b[38;5;33mConv2D\u001b[0m)                 │ (\u001b[38;5;45mNone\u001b[0m, \u001b[38;5;34m198\u001b[0m, \u001b[38;5;34m198\u001b[0m, \u001b[38;5;34m32\u001b[0m)   │           \u001b[38;5;34m896\u001b[0m │\n",
       "├─────────────────────────────────┼────────────────────────┼───────────────┤\n",
       "│ max_pooling2d (\u001b[38;5;33mMaxPooling2D\u001b[0m)    │ (\u001b[38;5;45mNone\u001b[0m, \u001b[38;5;34m99\u001b[0m, \u001b[38;5;34m99\u001b[0m, \u001b[38;5;34m32\u001b[0m)     │             \u001b[38;5;34m0\u001b[0m │\n",
       "├─────────────────────────────────┼────────────────────────┼───────────────┤\n",
       "│ flatten (\u001b[38;5;33mFlatten\u001b[0m)               │ (\u001b[38;5;45mNone\u001b[0m, \u001b[38;5;34m313632\u001b[0m)         │             \u001b[38;5;34m0\u001b[0m │\n",
       "├─────────────────────────────────┼────────────────────────┼───────────────┤\n",
       "│ dense (\u001b[38;5;33mDense\u001b[0m)                   │ (\u001b[38;5;45mNone\u001b[0m, \u001b[38;5;34m64\u001b[0m)             │    \u001b[38;5;34m20,072,512\u001b[0m │\n",
       "├─────────────────────────────────┼────────────────────────┼───────────────┤\n",
       "│ dense_1 (\u001b[38;5;33mDense\u001b[0m)                 │ (\u001b[38;5;45mNone\u001b[0m, \u001b[38;5;34m1\u001b[0m)              │            \u001b[38;5;34m65\u001b[0m │\n",
       "└─────────────────────────────────┴────────────────────────┴───────────────┘\n"
      ]
     },
     "metadata": {},
     "output_type": "display_data"
    },
    {
     "data": {
      "text/html": [
       "<pre style=\"white-space:pre;overflow-x:auto;line-height:normal;font-family:Menlo,'DejaVu Sans Mono',consolas,'Courier New',monospace\"><span style=\"font-weight: bold\"> Total params: </span><span style=\"color: #00af00; text-decoration-color: #00af00\">20,073,473</span> (76.57 MB)\n",
       "</pre>\n"
      ],
      "text/plain": [
       "\u001b[1m Total params: \u001b[0m\u001b[38;5;34m20,073,473\u001b[0m (76.57 MB)\n"
      ]
     },
     "metadata": {},
     "output_type": "display_data"
    },
    {
     "data": {
      "text/html": [
       "<pre style=\"white-space:pre;overflow-x:auto;line-height:normal;font-family:Menlo,'DejaVu Sans Mono',consolas,'Courier New',monospace\"><span style=\"font-weight: bold\"> Trainable params: </span><span style=\"color: #00af00; text-decoration-color: #00af00\">20,073,473</span> (76.57 MB)\n",
       "</pre>\n"
      ],
      "text/plain": [
       "\u001b[1m Trainable params: \u001b[0m\u001b[38;5;34m20,073,473\u001b[0m (76.57 MB)\n"
      ]
     },
     "metadata": {},
     "output_type": "display_data"
    },
    {
     "data": {
      "text/html": [
       "<pre style=\"white-space:pre;overflow-x:auto;line-height:normal;font-family:Menlo,'DejaVu Sans Mono',consolas,'Courier New',monospace\"><span style=\"font-weight: bold\"> Non-trainable params: </span><span style=\"color: #00af00; text-decoration-color: #00af00\">0</span> (0.00 B)\n",
       "</pre>\n"
      ],
      "text/plain": [
       "\u001b[1m Non-trainable params: \u001b[0m\u001b[38;5;34m0\u001b[0m (0.00 B)\n"
      ]
     },
     "metadata": {},
     "output_type": "display_data"
    }
   ],
   "source": [
    "model = Sequential([\n",
    "    Input(shape=(200, 200, 3)),\n",
    "    Conv2D(filters=32, \n",
    "           kernel_size=(3, 3), \n",
    "           activation='relu'),\n",
    "    MaxPooling2D(pool_size=(2, 2)),\n",
    "    Flatten(),\n",
    "    Dense(units=64, activation='relu'),\n",
    "    Dense(1, activation='sigmoid')\n",
    "])\n",
    "\n",
    "optimizer = tf.keras.optimizers.SGD(learning_rate=0.002, momentum=0.8)\n",
    "model.compile(optimizer=optimizer, \n",
    "              loss='binary_crossentropy', \n",
    "              metrics=['accuracy'])\n",
    "\n",
    "model.summary()"
   ]
  },
  {
   "cell_type": "markdown",
   "id": "f971e20a-7aaa-4ee0-925f-9b8ee9ef30fd",
   "metadata": {
    "scrolled": true
   },
   "source": [
    "### Question 1\n",
    "\n",
    "Since we have a binary classification problem, what is the best loss function for us?"
   ]
  },
  {
   "cell_type": "markdown",
   "id": "8960524d-bc28-4dfc-9158-94af6659ec3e",
   "metadata": {},
   "source": [
    "<i>Binary Crossentropy</i>"
   ]
  },
  {
   "cell_type": "markdown",
   "id": "5032d4ba-ad56-4437-a91f-ed6e8eb423e5",
   "metadata": {},
   "source": [
    "### Question 2\n",
    "What's the total number of parameters of the model? You can use the summary method for that."
   ]
  },
  {
   "cell_type": "markdown",
   "id": "6a897a71-4b4f-4e55-ac7b-932204bacca0",
   "metadata": {},
   "source": [
    "<i>Total params: 20,073,473 </i>"
   ]
  },
  {
   "cell_type": "markdown",
   "id": "90ccf3bc-47e0-48ca-a89f-349df2b5fdd1",
   "metadata": {},
   "source": [
    "### Generators and Training\n",
    "\n",
    "For the next two questions, use the following data generator for both train and test sets:\n",
    "\n",
    "`ImageDataGenerator(rescale=1./255)`\n",
    "\n",
    "* We don't need to do any additional pre-processing for the images.\n",
    "* When reading the data from train/test directories, check the class_mode parameter. Which value should it be for a binary classification problem?\n",
    "* Use `batch_size=20`\n",
    "* Use `shuffle=True` for both training and test sets.\n",
    "\n",
    "For training use `.fit()` with the following params:\n",
    "\n",
    "`model.fit(train_generator, epochs=10, validation_data=test_generator)`"
   ]
  },
  {
   "cell_type": "code",
   "execution_count": 4,
   "id": "a1d8adb9-5e90-4dd4-9154-bbcd9dc85675",
   "metadata": {
    "execution": {
     "iopub.execute_input": "2024-12-02T22:54:26.004781Z",
     "iopub.status.busy": "2024-12-02T22:54:26.004378Z",
     "iopub.status.idle": "2024-12-02T22:54:26.030853Z",
     "shell.execute_reply": "2024-12-02T22:54:26.030261Z",
     "shell.execute_reply.started": "2024-12-02T22:54:26.004750Z"
    }
   },
   "outputs": [
    {
     "name": "stdout",
     "output_type": "stream",
     "text": [
      "Found 802 images belonging to 2 classes.\n",
      "Classes: {'curly': 0, 'straight': 1}\n"
     ]
    }
   ],
   "source": [
    "train_gen = ImageDataGenerator(rescale=1./255)\n",
    "\n",
    "train_ds = train_gen.flow_from_directory(\n",
    "    './data/train/',\n",
    "    target_size=(200, 200),\n",
    "    batch_size=20,\n",
    "    shuffle=True,\n",
    "    class_mode='binary'\n",
    ")\n",
    "\n",
    "print('Classes:', train_ds.class_indices)\n",
    "\n",
    "# X, y = next(train_ds)"
   ]
  },
  {
   "cell_type": "code",
   "execution_count": 5,
   "id": "c98d3152-6ceb-48c9-9759-0005f1869235",
   "metadata": {
    "execution": {
     "iopub.execute_input": "2024-12-02T22:54:26.031783Z",
     "iopub.status.busy": "2024-12-02T22:54:26.031532Z",
     "iopub.status.idle": "2024-12-02T22:54:26.043816Z",
     "shell.execute_reply": "2024-12-02T22:54:26.043114Z",
     "shell.execute_reply.started": "2024-12-02T22:54:26.031765Z"
    }
   },
   "outputs": [
    {
     "name": "stdout",
     "output_type": "stream",
     "text": [
      "Found 201 images belonging to 2 classes.\n",
      "Classes: {'curly': 0, 'straight': 1}\n"
     ]
    }
   ],
   "source": [
    "test_gen = ImageDataGenerator(rescale=1./255)\n",
    "\n",
    "test_ds = test_gen.flow_from_directory(\n",
    "    './data/test/',\n",
    "    target_size=(200, 200),\n",
    "    batch_size=20,\n",
    "    shuffle=True,\n",
    "    class_mode='binary'\n",
    ")\n",
    "\n",
    "print('Classes:', test_ds.class_indices)\n",
    "\n",
    "# X, y = next(test_ds)"
   ]
  },
  {
   "cell_type": "code",
   "execution_count": 6,
   "id": "2fda5c0e-b829-44f6-8373-b6e3cfd9bf45",
   "metadata": {
    "execution": {
     "iopub.execute_input": "2024-12-02T22:54:26.045749Z",
     "iopub.status.busy": "2024-12-02T22:54:26.045415Z",
     "iopub.status.idle": "2024-12-02T22:55:22.133192Z",
     "shell.execute_reply": "2024-12-02T22:55:22.132617Z",
     "shell.execute_reply.started": "2024-12-02T22:54:26.045725Z"
    }
   },
   "outputs": [
    {
     "name": "stderr",
     "output_type": "stream",
     "text": [
      "/opt/saturncloud/envs/saturn/lib/python3.12/site-packages/keras/src/trainers/data_adapters/py_dataset_adapter.py:121: UserWarning: Your `PyDataset` class should call `super().__init__(**kwargs)` in its constructor. `**kwargs` can include `workers`, `use_multiprocessing`, `max_queue_size`. Do not pass these arguments to `fit()`, as they will be ignored.\n",
      "  self._warn_if_super_not_called()\n"
     ]
    },
    {
     "name": "stdout",
     "output_type": "stream",
     "text": [
      "Epoch 1/10\n"
     ]
    },
    {
     "name": "stderr",
     "output_type": "stream",
     "text": [
      "WARNING: All log messages before absl::InitializeLog() is called are written to STDERR\n",
      "I0000 00:00:1733180066.990715    6396 service.cc:146] XLA service 0x7f57b0008120 initialized for platform CUDA (this does not guarantee that XLA will be used). Devices:\n",
      "I0000 00:00:1733180066.990756    6396 service.cc:154]   StreamExecutor device (0): Tesla T4, Compute Capability 7.5\n",
      "2024-12-02 22:54:27.027427: I tensorflow/compiler/mlir/tensorflow/utils/dump_mlir_util.cc:268] disabling MLIR crash reproducer, set env var `MLIR_CRASH_REPRODUCER_DIRECTORY` to enable.\n",
      "2024-12-02 22:54:27.138570: I external/local_xla/xla/stream_executor/cuda/cuda_dnn.cc:531] Loaded cuDNN version 8907\n"
     ]
    },
    {
     "name": "stdout",
     "output_type": "stream",
     "text": [
      "\u001b[1m 3/41\u001b[0m \u001b[32m━\u001b[0m\u001b[37m━━━━━━━━━━━━━━━━━━━\u001b[0m \u001b[1m2s\u001b[0m 56ms/step - accuracy: 0.5111 - loss: 0.6952"
     ]
    },
    {
     "name": "stderr",
     "output_type": "stream",
     "text": [
      "I0000 00:00:1733180068.458629    6396 device_compiler.h:188] Compiled cluster using XLA!  This line is logged at most once for the lifetime of the process.\n"
     ]
    },
    {
     "name": "stdout",
     "output_type": "stream",
     "text": [
      "\u001b[1m41/41\u001b[0m \u001b[32m━━━━━━━━━━━━━━━━━━━━\u001b[0m\u001b[37m\u001b[0m \u001b[1m10s\u001b[0m 183ms/step - accuracy: 0.5207 - loss: 0.7469 - val_accuracy: 0.5174 - val_loss: 0.6920\n",
      "Epoch 2/10\n",
      "\u001b[1m41/41\u001b[0m \u001b[32m━━━━━━━━━━━━━━━━━━━━\u001b[0m\u001b[37m\u001b[0m \u001b[1m5s\u001b[0m 124ms/step - accuracy: 0.5684 - loss: 0.6871 - val_accuracy: 0.6517 - val_loss: 0.6684\n",
      "Epoch 3/10\n",
      "\u001b[1m41/41\u001b[0m \u001b[32m━━━━━━━━━━━━━━━━━━━━\u001b[0m\u001b[37m\u001b[0m \u001b[1m5s\u001b[0m 127ms/step - accuracy: 0.6942 - loss: 0.6406 - val_accuracy: 0.6716 - val_loss: 0.6183\n",
      "Epoch 4/10\n",
      "\u001b[1m41/41\u001b[0m \u001b[32m━━━━━━━━━━━━━━━━━━━━\u001b[0m\u001b[37m\u001b[0m \u001b[1m5s\u001b[0m 128ms/step - accuracy: 0.7209 - loss: 0.5647 - val_accuracy: 0.7015 - val_loss: 0.5945\n",
      "Epoch 5/10\n",
      "\u001b[1m41/41\u001b[0m \u001b[32m━━━━━━━━━━━━━━━━━━━━\u001b[0m\u001b[37m\u001b[0m \u001b[1m5s\u001b[0m 125ms/step - accuracy: 0.7370 - loss: 0.5262 - val_accuracy: 0.6716 - val_loss: 0.5764\n",
      "Epoch 6/10\n",
      "\u001b[1m41/41\u001b[0m \u001b[32m━━━━━━━━━━━━━━━━━━━━\u001b[0m\u001b[37m\u001b[0m \u001b[1m5s\u001b[0m 126ms/step - accuracy: 0.7319 - loss: 0.5123 - val_accuracy: 0.6915 - val_loss: 0.5672\n",
      "Epoch 7/10\n",
      "\u001b[1m41/41\u001b[0m \u001b[32m━━━━━━━━━━━━━━━━━━━━\u001b[0m\u001b[37m\u001b[0m \u001b[1m5s\u001b[0m 125ms/step - accuracy: 0.7575 - loss: 0.5198 - val_accuracy: 0.6866 - val_loss: 0.5572\n",
      "Epoch 8/10\n",
      "\u001b[1m41/41\u001b[0m \u001b[32m━━━━━━━━━━━━━━━━━━━━\u001b[0m\u001b[37m\u001b[0m \u001b[1m5s\u001b[0m 121ms/step - accuracy: 0.7665 - loss: 0.4725 - val_accuracy: 0.6816 - val_loss: 0.5899\n",
      "Epoch 9/10\n",
      "\u001b[1m41/41\u001b[0m \u001b[32m━━━━━━━━━━━━━━━━━━━━\u001b[0m\u001b[37m\u001b[0m \u001b[1m5s\u001b[0m 123ms/step - accuracy: 0.7830 - loss: 0.4709 - val_accuracy: 0.6915 - val_loss: 0.5600\n",
      "Epoch 10/10\n",
      "\u001b[1m41/41\u001b[0m \u001b[32m━━━━━━━━━━━━━━━━━━━━\u001b[0m\u001b[37m\u001b[0m \u001b[1m5s\u001b[0m 125ms/step - accuracy: 0.8000 - loss: 0.4161 - val_accuracy: 0.6468 - val_loss: 0.7219\n"
     ]
    }
   ],
   "source": [
    "history = model.fit(\n",
    "    train_ds,\n",
    "    epochs=10,\n",
    "    validation_data=test_ds,\n",
    "    verbose=1\n",
    ")"
   ]
  },
  {
   "cell_type": "code",
   "execution_count": 7,
   "id": "f852be97-c375-4ec4-9f30-cad834d792ad",
   "metadata": {
    "execution": {
     "iopub.execute_input": "2024-12-02T22:55:22.134469Z",
     "iopub.status.busy": "2024-12-02T22:55:22.134116Z",
     "iopub.status.idle": "2024-12-02T22:55:22.250366Z",
     "shell.execute_reply": "2024-12-02T22:55:22.249737Z",
     "shell.execute_reply.started": "2024-12-02T22:55:22.134438Z"
    }
   },
   "outputs": [
    {
     "data": {
      "image/png": "[encoded data removed]",
      "text/plain": [
       "<Figure size 640x480 with 1 Axes>"
      ]
     },
     "metadata": {},
     "output_type": "display_data"
    }
   ],
   "source": [
    "epoch = [i for i in range(1, 11)]\n",
    "plt.plot(epoch, history.history['accuracy'], label='train')\n",
    "plt.plot(epoch, history.history['val_accuracy'], label='test')\n",
    "plt.show()"
   ]
  },
  {
   "cell_type": "markdown",
   "id": "d2f2377b-92f7-4f6f-9489-ce8928a78f10",
   "metadata": {},
   "source": [
    "### Question 3\n",
    "What is the median of training accuracy for all the epochs for this model?"
   ]
  },
  {
   "cell_type": "code",
   "execution_count": 8,
   "id": "1643a6b2-29c8-4b57-8276-df3a45babc81",
   "metadata": {
    "execution": {
     "iopub.execute_input": "2024-12-02T22:55:22.251247Z",
     "iopub.status.busy": "2024-12-02T22:55:22.251002Z",
     "iopub.status.idle": "2024-12-02T22:55:22.255704Z",
     "shell.execute_reply": "2024-12-02T22:55:22.255233Z",
     "shell.execute_reply.started": "2024-12-02T22:55:22.251228Z"
    }
   },
   "outputs": [
    {
     "data": {
      "text/plain": [
       "0.734"
      ]
     },
     "execution_count": 8,
     "metadata": {},
     "output_type": "execute_result"
    }
   ],
   "source": [
    "round(np.median(history.history['accuracy']),3)"
   ]
  },
  {
   "cell_type": "markdown",
   "id": "f75b74d1-cb4d-4099-87f6-95baadbfd3d8",
   "metadata": {},
   "source": [
    "### Question 4\n",
    "What is the standard deviation of training loss for all the epochs for this model?"
   ]
  },
  {
   "cell_type": "code",
   "execution_count": 9,
   "id": "b1fad2f6-3a2f-48d8-be67-cac2fb6dff4b",
   "metadata": {
    "execution": {
     "iopub.execute_input": "2024-12-02T22:55:22.256498Z",
     "iopub.status.busy": "2024-12-02T22:55:22.256258Z",
     "iopub.status.idle": "2024-12-02T22:55:22.261728Z",
     "shell.execute_reply": "2024-12-02T22:55:22.261166Z",
     "shell.execute_reply.started": "2024-12-02T22:55:22.256481Z"
    }
   },
   "outputs": [
    {
     "data": {
      "text/plain": [
       "0.096"
      ]
     },
     "execution_count": 9,
     "metadata": {},
     "output_type": "execute_result"
    }
   ],
   "source": [
    "round(np.std(history.history['loss']),3)"
   ]
  },
  {
   "cell_type": "markdown",
   "id": "95d6f6a5-dff2-458c-bdf9-ecee35756162",
   "metadata": {},
   "source": [
    "### Data Augmentation\n",
    "\n",
    "For the next two questions, we'll generate more data using data augmentations.\n",
    "\n",
    "Add the following augmentations to your training data generator:\n",
    "\n",
    "* `rotation_range=50,`\n",
    "* `width_shift_range=0.1,`\n",
    "* `height_shift_range=0.1,`\n",
    "* `zoom_range=0.1,`\n",
    "* `horizontal_flip=True,`\n",
    "* `fill_mode='nearest'`\n"
   ]
  },
  {
   "cell_type": "code",
   "execution_count": 10,
   "id": "e262e374-cee8-446e-b952-43ecd5745132",
   "metadata": {
    "execution": {
     "iopub.execute_input": "2024-12-02T22:55:22.262519Z",
     "iopub.status.busy": "2024-12-02T22:55:22.262297Z",
     "iopub.status.idle": "2024-12-02T22:55:22.297405Z",
     "shell.execute_reply": "2024-12-02T22:55:22.296868Z",
     "shell.execute_reply.started": "2024-12-02T22:55:22.262502Z"
    }
   },
   "outputs": [
    {
     "name": "stdout",
     "output_type": "stream",
     "text": [
      "Found 802 images belonging to 2 classes.\n",
      "Train classes: {'curly': 0, 'straight': 1} \n",
      "\n",
      "Found 201 images belonging to 2 classes.\n",
      "Test classes:  {'curly': 0, 'straight': 1}\n"
     ]
    }
   ],
   "source": [
    "train_gen_aug = ImageDataGenerator(rescale=1./255,\n",
    "                               rotation_range=50,\n",
    "                               width_shift_range=0.1,\n",
    "                               height_shift_range=0.1,\n",
    "                               zoom_range=0.1,\n",
    "                               horizontal_flip=True,\n",
    "                               fill_mode='nearest')\n",
    "\n",
    "\n",
    "train_ds_aug = train_gen_aug.flow_from_directory(\n",
    "    './data/train/',\n",
    "    target_size=(200, 200),\n",
    "    batch_size=20,\n",
    "    shuffle=True,\n",
    "    class_mode='binary'\n",
    ")\n",
    "print('Train classes:', train_ds_aug.class_indices, '\\n')\n",
    "\n",
    "\n",
    "test_gen_aug = ImageDataGenerator(rescale=1./255,\n",
    "                               rotation_range=50,\n",
    "                               width_shift_range=0.1,\n",
    "                               height_shift_range=0.1,\n",
    "                               zoom_range=0.1,\n",
    "                               horizontal_flip=True,\n",
    "                               fill_mode='nearest')\n",
    "\n",
    "test_ds_aug = test_gen_aug.flow_from_directory(\n",
    "    './data/test/',\n",
    "    target_size=(200, 200),\n",
    "    batch_size=20,\n",
    "    shuffle=True,\n",
    "    class_mode='binary'\n",
    ")\n",
    "\n",
    "print('Test classes: ', test_ds_aug.class_indices)"
   ]
  },
  {
   "cell_type": "code",
   "execution_count": 11,
   "id": "4a4946db-7047-4853-888f-c84da9c32ed4",
   "metadata": {
    "execution": {
     "iopub.execute_input": "2024-12-02T22:55:22.298243Z",
     "iopub.status.busy": "2024-12-02T22:55:22.297963Z",
     "iopub.status.idle": "2024-12-02T22:57:20.252023Z",
     "shell.execute_reply": "2024-12-02T22:57:20.251551Z",
     "shell.execute_reply.started": "2024-12-02T22:55:22.298201Z"
    }
   },
   "outputs": [
    {
     "name": "stdout",
     "output_type": "stream",
     "text": [
      "Epoch 1/10\n",
      "\u001b[1m41/41\u001b[0m \u001b[32m━━━━━━━━━━━━━━━━━━━━\u001b[0m\u001b[37m\u001b[0m \u001b[1m12s\u001b[0m 299ms/step - accuracy: 0.6846 - loss: 0.6115 - val_accuracy: 0.7164 - val_loss: 0.5847\n",
      "Epoch 2/10\n",
      "\u001b[1m41/41\u001b[0m \u001b[32m━━━━━━━━━━━━━━━━━━━━\u001b[0m\u001b[37m\u001b[0m \u001b[1m12s\u001b[0m 285ms/step - accuracy: 0.6787 - loss: 0.5774 - val_accuracy: 0.7363 - val_loss: 0.5534\n",
      "Epoch 3/10\n",
      "\u001b[1m41/41\u001b[0m \u001b[32m━━━━━━━━━━━━━━━━━━━━\u001b[0m\u001b[37m\u001b[0m \u001b[1m12s\u001b[0m 281ms/step - accuracy: 0.7378 - loss: 0.5407 - val_accuracy: 0.6766 - val_loss: 0.5942\n",
      "Epoch 4/10\n",
      "\u001b[1m41/41\u001b[0m \u001b[32m━━━━━━━━━━━━━━━━━━━━\u001b[0m\u001b[37m\u001b[0m \u001b[1m12s\u001b[0m 289ms/step - accuracy: 0.7031 - loss: 0.5770 - val_accuracy: 0.7264 - val_loss: 0.5886\n",
      "Epoch 5/10\n",
      "\u001b[1m41/41\u001b[0m \u001b[32m━━━━━━━━━━━━━━━━━━━━\u001b[0m\u001b[37m\u001b[0m \u001b[1m12s\u001b[0m 292ms/step - accuracy: 0.6881 - loss: 0.5936 - val_accuracy: 0.6269 - val_loss: 0.6804\n",
      "Epoch 6/10\n",
      "\u001b[1m41/41\u001b[0m \u001b[32m━━━━━━━━━━━━━━━━━━━━\u001b[0m\u001b[37m\u001b[0m \u001b[1m12s\u001b[0m 284ms/step - accuracy: 0.7289 - loss: 0.5510 - val_accuracy: 0.7214 - val_loss: 0.5849\n",
      "Epoch 7/10\n",
      "\u001b[1m41/41\u001b[0m \u001b[32m━━━━━━━━━━━━━━━━━━━━\u001b[0m\u001b[37m\u001b[0m \u001b[1m12s\u001b[0m 287ms/step - accuracy: 0.7546 - loss: 0.5102 - val_accuracy: 0.7114 - val_loss: 0.5735\n",
      "Epoch 8/10\n",
      "\u001b[1m41/41\u001b[0m \u001b[32m━━━━━━━━━━━━━━━━━━━━\u001b[0m\u001b[37m\u001b[0m \u001b[1m12s\u001b[0m 285ms/step - accuracy: 0.7356 - loss: 0.5214 - val_accuracy: 0.7164 - val_loss: 0.5551\n",
      "Epoch 9/10\n",
      "\u001b[1m41/41\u001b[0m \u001b[32m━━━━━━━━━━━━━━━━━━━━\u001b[0m\u001b[37m\u001b[0m \u001b[1m12s\u001b[0m 283ms/step - accuracy: 0.7083 - loss: 0.5675 - val_accuracy: 0.6866 - val_loss: 0.5845\n",
      "Epoch 10/10\n",
      "\u001b[1m41/41\u001b[0m \u001b[32m━━━━━━━━━━━━━━━━━━━━\u001b[0m\u001b[37m\u001b[0m \u001b[1m12s\u001b[0m 288ms/step - accuracy: 0.6279 - loss: 0.6031 - val_accuracy: 0.7214 - val_loss: 0.6312\n"
     ]
    },
    {
     "data": {
      "text/plain": [
       "<keras.src.callbacks.history.History at 0x7f58583215e0>"
      ]
     },
     "execution_count": 11,
     "metadata": {},
     "output_type": "execute_result"
    }
   ],
   "source": [
    "history2 = model.fit(\n",
    "    train_ds_aug,\n",
    "    epochs=10,\n",
    "    validation_data=test_ds_aug,\n",
    "    verbose=1\n",
    ")\n",
    "\n",
    "history2"
   ]
  },
  {
   "cell_type": "code",
   "execution_count": 12,
   "id": "51c41359-6fa2-4d17-8afa-a90bd73f3b3f",
   "metadata": {
    "execution": {
     "iopub.execute_input": "2024-12-02T22:57:20.252895Z",
     "iopub.status.busy": "2024-12-02T22:57:20.252627Z",
     "iopub.status.idle": "2024-12-02T22:57:20.351030Z",
     "shell.execute_reply": "2024-12-02T22:57:20.350463Z",
     "shell.execute_reply.started": "2024-12-02T22:57:20.252869Z"
    }
   },
   "outputs": [
    {
     "data": {
      "image/png": "[encoded data removed]",
      "text/plain": [
       "<Figure size 640x480 with 1 Axes>"
      ]
     },
     "metadata": {},
     "output_type": "display_data"
    }
   ],
   "source": [
    "epoch = [i for i in range(1, 11)]\n",
    "plt.plot(epoch, history2.history['accuracy'], label='train')\n",
    "plt.plot(epoch, history2.history['val_accuracy'], label='test')\n",
    "plt.show()"
   ]
  },
  {
   "cell_type": "markdown",
   "id": "424cf305-ac9c-4109-878b-45ed9b9275e9",
   "metadata": {},
   "source": [
    "### Question 5\n",
    "\n",
    "Let's train our model for 10 more epochs using the same code as previously.\n",
    "\n",
    "<b>Note: make sure you don't re-create the model - we want to continue training the model we already started training.</b>\n",
    "\n",
    "What is the mean of test loss for all the epochs for the model trained with augmentations?"
   ]
  },
  {
   "cell_type": "code",
   "execution_count": 13,
   "id": "be4b0821-58dd-440c-8bf0-76d3658b9415",
   "metadata": {
    "execution": {
     "iopub.execute_input": "2024-12-02T22:57:20.352373Z",
     "iopub.status.busy": "2024-12-02T22:57:20.352137Z",
     "iopub.status.idle": "2024-12-02T22:57:20.356385Z",
     "shell.execute_reply": "2024-12-02T22:57:20.355909Z",
     "shell.execute_reply.started": "2024-12-02T22:57:20.352355Z"
    }
   },
   "outputs": [
    {
     "data": {
      "text/plain": [
       "0.593"
      ]
     },
     "execution_count": 13,
     "metadata": {},
     "output_type": "execute_result"
    }
   ],
   "source": [
    "round(np.mean(history2.history['val_loss']),3)"
   ]
  },
  {
   "cell_type": "markdown",
   "id": "c2bca593-f472-44cb-b905-b966e56b14ed",
   "metadata": {},
   "source": [
    "### Question 6\n",
    "What's the average of test accuracy for the last 5 epochs (from 6 to 10) for the model trained with augmentations?"
   ]
  },
  {
   "cell_type": "code",
   "execution_count": 14,
   "id": "b99d0c42-2201-4f12-aa6a-0aece5d970e7",
   "metadata": {
    "execution": {
     "iopub.execute_input": "2024-12-02T22:57:20.357249Z",
     "iopub.status.busy": "2024-12-02T22:57:20.356932Z",
     "iopub.status.idle": "2024-12-02T22:57:20.362129Z",
     "shell.execute_reply": "2024-12-02T22:57:20.361638Z",
     "shell.execute_reply.started": "2024-12-02T22:57:20.357230Z"
    }
   },
   "outputs": [
    {
     "data": {
      "text/plain": [
       "0.711"
      ]
     },
     "execution_count": 14,
     "metadata": {},
     "output_type": "execute_result"
    }
   ],
   "source": [
    "round(np.mean(history2.history['val_accuracy'][5:]),3)"
   ]
  },
  {
   "cell_type": "code",
   "execution_count": null,
   "id": "57cc8ad3-8bc4-4d56-9a32-68381cdbb4d0",
   "metadata": {},
   "outputs": [],
   "source": []
  },
  {
   "cell_type": "code",
   "execution_count": null,
   "id": "ad8b34b7-d969-4f86-b1ce-ab2e520877dc",
   "metadata": {},
   "outputs": [],
   "source": []
  }
 ],
 "metadata": {
  "kernelspec": {
   "display_name": "saturn (Python 3)",
   "language": "python",
   "name": "python3"
  },
  "language_info": {
   "codemirror_mode": {
    "name": "ipython",
    "version": 3
   },
   "file_extension": ".py",
   "mimetype": "text/x-python",
   "name": "python",
   "nbconvert_exporter": "python",
   "pygments_lexer": "ipython3",
   "version": "3.12.7"
  }
 },
 "nbformat": 4,
 "nbformat_minor": 5
}
